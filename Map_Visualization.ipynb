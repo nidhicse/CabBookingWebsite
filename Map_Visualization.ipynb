{
 "cells": [
  {
   "cell_type": "code",
   "execution_count": 3,
   "id": "109d8c50",
   "metadata": {},
   "outputs": [
    {
     "name": "stderr",
     "output_type": "stream",
     "text": [
      "C:\\Users\\harsh\\AppData\\Local\\Temp\\ipykernel_24776\\2546315387.py:36: UserWarning: color argument of Icon should be one of: {'cadetblue', 'darkblue', 'lightblue', 'beige', 'red', 'blue', 'green', 'pink', 'darkgreen', 'darkpurple', 'lightgray', 'white', 'purple', 'darkred', 'gray', 'lightred', 'orange', 'black', 'lightgreen'}.\n",
      "  icon=folium.Icon(color=get_color(row['Safety Score']))).add_to(delhi_map)\n"
     ]
    }
   ],
   "source": [
    "import pandas as pd\n",
    "import folium\n",
    "from geopy.geocoders import Nominatim\n",
    "\n",
    "data = {\n",
    "    'District': ['Central Delhi', 'East Delhi', 'North Delhi', 'South Delhi', 'West Delhi', 'New Delhi'],\n",
    "    'Safety Score': [450, 370, 550, 305, 390, 245]\n",
    "}\n",
    "\n",
    "df = pd.DataFrame(data)\n",
    "\n",
    "geolocator = Nominatim(user_agent=\"delhi_safety_map\")\n",
    "\n",
    "def get_coordinates(location):\n",
    "    loc = geolocator.geocode(location + \", Delhi, India\")\n",
    "    return (loc.latitude, loc.longitude) if loc else (None, None)\n",
    "\n",
    "df['Coordinates'] = df['District'].apply(get_coordinates)\n",
    "\n",
    "delhi_map = folium.Map(location=[28.6139, 77.2090], zoom_start=11)\n",
    "\n",
    "def get_color(score):\n",
    "    if score >= 450:\n",
    "        return 'red'\n",
    "    elif 350 <= score < 450:\n",
    "        return 'orange'\n",
    "    else:\n",
    "        return 'yellow'\n",
    "\n",
    "for index, row in df.iterrows():\n",
    "    coordinates = row['Coordinates']\n",
    "    if coordinates[0] and coordinates[1]:\n",
    "        folium.Marker(\n",
    "            location=coordinates,\n",
    "            popup=f\"{row['District']}: {row['Safety Score']}\",\n",
    "            icon=folium.Icon(color=get_color(row['Safety Score']))).add_to(delhi_map)\n",
    "\n",
    "delhi_map.save(\"Delhi_Safety_Map1.html\")"
   ]
  },
  {
   "cell_type": "code",
   "execution_count": null,
   "id": "b5dd9d9f",
   "metadata": {},
   "outputs": [],
   "source": []
  }
 ],
 "metadata": {
  "kernelspec": {
   "display_name": "Python 3 (ipykernel)",
   "language": "python",
   "name": "python3"
  },
  "language_info": {
   "codemirror_mode": {
    "name": "ipython",
    "version": 3
   },
   "file_extension": ".py",
   "mimetype": "text/x-python",
   "name": "python",
   "nbconvert_exporter": "python",
   "pygments_lexer": "ipython3",
   "version": "3.11.5"
  }
 },
 "nbformat": 4,
 "nbformat_minor": 5
}
